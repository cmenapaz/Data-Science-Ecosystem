{
 "cells": [
  {
   "cell_type": "markdown",
   "id": "5782de3c-b33a-42a6-8ab4-7d18ee0a5e96",
   "metadata": {},
   "source": [
    "# Title of Your Notebook\n"
   ]
  },
  {
   "cell_type": "markdown",
   "id": "c33a3817-2a35-4df5-968d-26c3128674dc",
   "metadata": {},
   "source": [
    "# Data Science Ecosystem"
   ]
  },
  {
   "cell_type": "markdown",
   "id": "867cb784-25af-4f6d-9809-d6dd343b7567",
   "metadata": {},
   "source": [
    "\n",
    "## Introduction\n",
    "This notebook presents an overview of data science, including languages, libraries, tools, and basic arithmetic operations.\n",
    "In this notebook, Data Science Tools and Ecosystem are summarized.\n"
   ]
  },
  {
   "cell_type": "markdown",
   "id": "b16ac189-1fbd-4f88-898b-5cb6106f5f01",
   "metadata": {},
   "source": [
    "## Data Science Languages\n",
    "- Python\n",
    "- R\n",
    "- SQL\n",
    "- Java\n",
    "- Julia\n"
   ]
  },
  {
   "cell_type": "markdown",
   "id": "af748614-9279-411b-9837-511ac17c3b90",
   "metadata": {
    "jp-MarkdownHeadingCollapsed": true
   },
   "source": [
    "## Data Science Libraries\n",
    "- Pandas\n",
    "- NumPy\n",
    "- Matplotlib\n",
    "- Scikit-learn\n",
    "- TensorFlow\n",
    "\n",
    "\n",
    "\n"
   ]
  },
  {
   "cell_type": "markdown",
   "id": "bff2adb0-8fd1-40fc-80fa-0215d2df0e0d",
   "metadata": {},
   "source": [
    "## Data Science Tools\n",
    "| Tool          | Description                   |\n",
    "|---------------|-------------------------------|\n",
    "| Jupyter       | Open-source web application    |\n",
    "| RStudio       | IDE for R                      |\n",
    "| Tableau       | Data visualization software     |\n",
    "| GitHub        | Version control platform        |\n",
    "| Anaconda      | Python and R distribution      |\n",
    "\n"
   ]
  },
  {
   "cell_type": "markdown",
   "id": "9f94c20d-cba5-4c91-9079-61ed318a86d1",
   "metadata": {},
   "source": [
    "### Below are a few examples of evaluating arithmetic expressions in Python.\n",
    "## Arithmetic Expression Examples\n",
    "In this section, we will demonstrate some basic arithmetic operations.\n"
   ]
  },
  {
   "cell_type": "code",
   "execution_count": null,
   "id": "d0e965c6-7953-42f5-86e6-ccaa297d2755",
   "metadata": {},
   "outputs": [],
   "source": [
    "# Exercise 8: Multiply and Add Numbers\n",
    "a = 10\n",
    "b = 5\n",
    "result_multiply = a * b\n",
    "result_add = a + b\n",
    "\n",
    "result_multiply, result_add\n"
   ]
  },
  {
   "cell_type": "code",
   "execution_count": null,
   "id": "79195c9b-acc6-4366-8499-86e3e4a68c20",
   "metadata": {},
   "outputs": [],
   "source": [
    "# Exercise 9: Convert Minutes to Hours\n",
    "def convert_minutes_to_hours(minutes):\n",
    "    hours = minutes / 60\n",
    "    return hours\n",
    "\n",
    "minutes = 120\n",
    "hours = convert_minutes_to_hours(minutes)\n",
    "hours\n"
   ]
  },
  {
   "cell_type": "markdown",
   "id": "d8fcb602-0e38-43cd-abf0-f33d27f5acad",
   "metadata": {},
   "source": [
    "## Objectives\n",
    "1. Understand basic data science concepts.\n",
    "2. Learn about various programming languages used in data science.\n",
    "3. Explore popular libraries and tools in data science.\n",
    "4. Demonstrate basic arithmetic operations through code.\n"
   ]
  },
  {
   "cell_type": "markdown",
   "id": "f1a62f13-daf4-4806-b1cc-794056bdcb0f",
   "metadata": {},
   "source": [
    "## Author’s Name\n",
    "\n",
    "Carmen Paz\n"
   ]
  },
  {
   "cell_type": "code",
   "execution_count": null,
   "id": "a0bea318-ddb1-4a9a-b6b8-41088870e7bb",
   "metadata": {},
   "outputs": [],
   "source": []
  }
 ],
 "metadata": {
  "kernelspec": {
   "display_name": "Python 3 (ipykernel)",
   "language": "python",
   "name": "python3"
  },
  "language_info": {
   "codemirror_mode": {
    "name": "ipython",
    "version": 3
   },
   "file_extension": ".py",
   "mimetype": "text/x-python",
   "name": "python",
   "nbconvert_exporter": "python",
   "pygments_lexer": "ipython3",
   "version": "3.11.9"
  }
 },
 "nbformat": 4,
 "nbformat_minor": 5
}
